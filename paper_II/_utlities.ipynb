{
 "cells": [
  {
   "cell_type": "code",
   "execution_count": 2,
   "metadata": {},
   "outputs": [
    {
     "name": "stdout",
     "output_type": "stream",
     "text": [
      "sigma_v deflector: 325.5934446284761\n",
      "theta_E from sigma_v 1.358348436850404\n",
      "log(mass) deflector: 11.741719468203398\n",
      "log(mass) satellite: 8.731419511563585\n",
      "log(ratio): 3.010299956639812\n"
     ]
    }
   ],
   "source": [
    "import numpy as np\n",
    "from lenstronomy.Cosmo.lens_cosmo import LensCosmo\n",
    "from astropy.cosmology import FlatLambdaCDM\n",
    "\n",
    "Om0 = 0.3\n",
    "H0 = 70.0\n",
    "cosmo = FlatLambdaCDM(H0=H0, Om0=Om0, Ob0=0.0)\n",
    "\n",
    "z_lens, z_source = 0.3, 0.7\n",
    "lens_cosmo = LensCosmo(z_lens, z_source, cosmo=cosmo)\n",
    "\n",
    "theta_E_deflector = 1.6\n",
    "theta_E_satellite = 0.05\n",
    "\n",
    "print(\"sigma_v deflector:\", lens_cosmo.sis_theta_E2sigma_v(theta_E_deflector))\n",
    "print(\"theta_E from sigma_v\", lens_cosmo.sis_sigma_v2theta_E(300))\n",
    "\n",
    "print(\"log(mass) deflector:\", np.log10(lens_cosmo.mass_in_theta_E(theta_E_deflector)))\n",
    "print(\"log(mass) satellite:\", np.log10(lens_cosmo.mass_in_theta_E(theta_E_satellite)))\n",
    "print(\"log(ratio):\", np.log10(lens_cosmo.mass_in_theta_E(theta_E_deflector)/lens_cosmo.mass_in_theta_E(theta_E_satellite)))"
   ]
  },
  {
   "cell_type": "code",
   "execution_count": null,
   "metadata": {},
   "outputs": [],
   "source": []
  }
 ],
 "metadata": {
  "kernelspec": {
   "display_name": "py3jax",
   "language": "python",
   "name": "py3jax"
  },
  "language_info": {
   "codemirror_mode": {
    "name": "ipython",
    "version": 3
   },
   "file_extension": ".py",
   "mimetype": "text/x-python",
   "name": "python",
   "nbconvert_exporter": "python",
   "pygments_lexer": "ipython3",
   "version": "3.7.10"
  }
 },
 "nbformat": 4,
 "nbformat_minor": 2
}
