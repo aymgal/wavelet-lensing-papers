{
 "cells": [
  {
   "cell_type": "markdown",
   "metadata": {},
   "source": [
    "# Wavelet-regularized potential reconstruction\n",
    "\n",
    "__last update__: 25/11/21"
   ]
  },
  {
   "cell_type": "code",
   "execution_count": 1,
   "metadata": {},
   "outputs": [],
   "source": [
    "%config InlineBackend.figure_format = 'retina'\n",
    "\n",
    "import os\n",
    "import time\n",
    "import numpy as np\n",
    "import matplotlib.pyplot as plt\n",
    "from copy import deepcopy\n",
    "import powerbox as pbox\n",
    "from astropy.io import fits\n",
    "from matplotlib.colors import LogNorm, TwoSlopeNorm\n",
    "%matplotlib inline\n",
    "plt.rc('image', interpolation='none')\n",
    "\n",
    "import jax.numpy as jnp\n",
    "\n",
    "from herculens.Coordinates.pixel_grid import PixelGrid\n",
    "from herculens.Instrument.psf import PSF\n",
    "from herculens.Instrument.noise import Noise\n",
    "from herculens.LightModel.light_model import LightModel\n",
    "from herculens.LensModel.lens_model import LensModel\n",
    "from herculens.LensImage.lens_image import LensImage\n",
    "from herculens.Parameters.parameters import Parameters\n",
    "from herculens.Inference.loss import Loss\n",
    "from herculens.Inference.optimization import Optimizer\n",
    "from herculens.Analysis.plot import Plotter\n",
    "from herculens.Util import param_util, model_util, grf_util, util"
   ]
  },
  {
   "cell_type": "markdown",
   "metadata": {},
   "source": [
    "## Global settings"
   ]
  },
  {
   "cell_type": "code",
   "execution_count": 2,
   "metadata": {},
   "outputs": [],
   "source": [
    "# Save figures on disk?\n",
    "SAVE_FIGURES = False\n",
    "SAVE_MODELS = False\n",
    "SAVE_PSI_FIELDS = False\n",
    "\n",
    "# Type of the potential perturbations that we seek to recover\n",
    "perturbation_type = 'dark_halo' # supported choices: 'dark_halo', 'GRF', 'discyness', 'boxyness'\n",
    "\n",
    "# Whether or not a fully-smooth fit of the data should be performed \n",
    "fit_fully_smooth_first = False\n",
    "start_from_fully_smooth = False\n",
    "fix_smooth_to_input = 'none'  # 'none', 'source_center', 'all'\n",
    "wavelet_regularization = True\n",
    "\n",
    "# Factor of pixel scale for the potential grid\n",
    "potential_pixel_scale = 4\n",
    "\n",
    "# Choice of seeing conditions\n",
    "psf_type = 'gaussian'  # 'none', 'gaussian', 'HST'\n",
    "# Warning: 'HST' will take more time as convolutions are performed in real space... for now.\n",
    "\n",
    "# Plotting engine for modeling results\n",
    "plotter = Plotter(base_fontsize=18, flux_vmin=2e-2, flux_vmax=2e0, res_vmax=4)\n",
    "\n",
    "# seed for noise realisation\n",
    "noise_seed = 18 "
   ]
  },
  {
   "cell_type": "markdown",
   "metadata": {},
   "source": [
    "## Simulate the mock data"
   ]
  },
  {
   "cell_type": "markdown",
   "metadata": {},
   "source": [
    "### Data grids (image plane and source plane)\n",
    "For simplicity at first, assume both the smooth image plane and the source plane share the same pixelization.\n",
    "Take the pixelated potential perturbations to live on a lower resolution grid (quarter-size)."
   ]
  },
  {
   "cell_type": "code",
   "execution_count": 3,
   "metadata": {},
   "outputs": [
    {
     "name": "stdout",
     "output_type": "stream",
     "text": [
      "image size : (100, 100) pixels\n",
      "pixel size : 0.08 arcsec\n",
      "x range    : (-3.96, 3.96) arcsec\n",
      "y range    : (-3.96, 3.96) arcsec\n"
     ]
    }
   ],
   "source": [
    "npix = 100\n",
    "pix_scl = 0.08  # arcsec / pixel\n",
    "half_size = npix * pix_scl / 2\n",
    "ra_at_xy_0 = dec_at_xy_0 = -half_size + pix_scl / 2\n",
    "transform_pix2angle = pix_scl * np.eye(2)\n",
    "kwargs_grid = {'nx': npix, 'ny': npix,\n",
    "                'ra_at_xy_0': ra_at_xy_0, 'dec_at_xy_0': dec_at_xy_0,\n",
    "                'transform_pix2angle': transform_pix2angle}\n",
    "pixel_grid = PixelGrid(**kwargs_grid)\n",
    "\n",
    "# Native image plane coordinates\n",
    "x_grid, y_grid = pixel_grid.pixel_coordinates\n",
    "x_coords = x_grid[0, :]\n",
    "y_coords = y_grid[:, 0]\n",
    "extent = pixel_grid.extent\n",
    "\n",
    "print(f\"image size : ({npix}, {npix}) pixels\")\n",
    "print(f\"pixel size : {pix_scl} arcsec\")\n",
    "print(f\"x range    : {extent[0], extent[1]} arcsec\")\n",
    "print(f\"y range    : {extent[2], extent[3]} arcsec\")"
   ]
  },
  {
   "cell_type": "markdown",
   "metadata": {},
   "source": [
    "### Seeing & instrumental effects"
   ]
  },
  {
   "cell_type": "code",
   "execution_count": 4,
   "metadata": {},
   "outputs": [
    {
     "name": "stderr",
     "output_type": "stream",
     "text": [
      "WARNING:absl:No GPU/TPU found, falling back to CPU. (Set TF_CPP_MIN_LOG_LEVEL=0 and rerun for more info.)\n"
     ]
    },
    {
     "data": {
      "image/png": "[encoded data removed]",
      "text/plain": [
       "<Figure size 432x288 with 2 Axes>"
      ]
     },
     "metadata": {
      "image/png": {
       "height": 267,
       "width": 319
      },
      "needs_background": "light"
     },
     "output_type": "display_data"
    }
   ],
   "source": [
    "# PSF\n",
    "if psf_type == 'none':\n",
    "    # Gaussian PSF\n",
    "    psf = PSF(psf_type='NONE')\n",
    "    convolution_type = None  # ignored when using gaussian PSF (blurring performed through fast gaussian filtering)\n",
    "if psf_type == 'gaussian':\n",
    "    # Gaussian PSF\n",
    "    psf = PSF(psf_type='GAUSSIAN', fwhm=0.3, truncation=5, pixel_size=pix_scl)\n",
    "    convolution_type = None  # ignored when using gaussian PSF (blurring performed through fast gaussian filtering)\n",
    "elif psf_type == 'HST':\n",
    "    # PSF from HST F160W\n",
    "    psf_kernel = fits.getdata(os.path.join('data', 'PSF_HST_F160W_tinytim.fits'), header=False)\n",
    "    psf_kernel = psf_kernel[25:-25, 25:-25] # trim it a bit so convolutions are faster\n",
    "    psf_kernel /= psf_kernel.sum()\n",
    "    print(psf_kernel.shape, psf_kernel.sum())\n",
    "    psf = PSF(psf_type='PIXEL', kernel_point_source=psf_kernel)\n",
    "    convolution_type = 'grid'\n",
    "plt.figure()\n",
    "plt.title(\"PSF kernel\", fontsize=18)\n",
    "plt.imshow(psf.kernel_point_source, origin='lower', cmap=plotter.cmap_flux, norm=LogNorm(1e-5))\n",
    "plt.colorbar()\n",
    "plt.show()\n",
    "\n",
    "# Noise\n",
    "exp_time = 2000\n",
    "sigma_bkd = 0.01\n",
    "noise = Noise(npix, npix, background_rms=sigma_bkd, exposure_time=exp_time)\n",
    "noise_fit = deepcopy(noise)"
   ]
  },
  {
   "cell_type": "markdown",
   "metadata": {},
   "source": [
    "### Mass and light models"
   ]
  },
  {
   "cell_type": "code",
   "execution_count": 5,
   "metadata": {
    "scrolled": false
   },
   "outputs": [
    {
     "name": "stdout",
     "output_type": "stream",
     "text": [
      "Input halo axis ratio: 1.000 & direction: 22.500\n"
     ]
    }
   ],
   "source": [
    "# Input lens mass model \n",
    "kwargs_macro_lens_input = {'theta_E': 1.6, 'e1': 0.15, 'e2': -0.04, 'center_x': 0.0, 'center_y': 0.0}\n",
    "kwargs_ext_shear_input = {'gamma1': -0.01, 'gamma2': 0.03, 'ra_0': 0., 'dec_0': 0.}\n",
    "phi_ext, gamma_ext = param_util.shear_cartesian2polar(kwargs_ext_shear_input['gamma1'], kwargs_ext_shear_input['gamma2'])\n",
    "#print(f\"Input shear strength: {gamma_ext:.3f} & direction: {phi_ext*180/np.pi:.3f}\")\n",
    "phi, q = param_util.ellipticity2phi_q(kwargs_macro_lens_input['e1'], kwargs_macro_lens_input['e2'])\n",
    "#print(f\"Input macro axis ratio: {q:.3f} & direction: {phi*180/np.pi:.3f}\")\n",
    "\n",
    "# Grid on which pixelated (input) perturbation are evaluated\n",
    "kwargs_pixelated_lens_numerics = {\n",
    "    'pixel_scale_factor': 1.,  # if 1 / n, it means n times better resolved\n",
    "}\n",
    "pixel_grid.create_model_grid(**kwargs_pixelated_lens_numerics, \n",
    "                             name='lens_numerics', overwrite=True)\n",
    "npix_num, _ = pixel_grid.model_pixel_shape('lens_numerics')\n",
    "pix_scl_num = pixel_grid.model_pixel_width('lens_numerics')\n",
    "\n",
    "# Input potential perturbations\n",
    "if perturbation_type == 'dark_halo':\n",
    "    lens_mass_model_input = LensModel(['SIE', 'SHEAR', 'SIE'])\n",
    "    kwargs_lens_input = [\n",
    "        kwargs_macro_lens_input, \n",
    "        kwargs_ext_shear_input,\n",
    "        {'theta_E': 0.08, 'e1': 0.0, 'e2': 0.0, 'center_x': 1.9, 'center_y': -0.4}\n",
    "    ]\n",
    "    phi_p, q_p = param_util.ellipticity2phi_q(kwargs_lens_input[-1]['e1'], kwargs_lens_input[-1]['e2'])\n",
    "    print(f\"Input halo axis ratio: {q_p:.3f} & direction: {phi_p*180/np.pi:.3f}\")\n",
    "    \n",
    "elif perturbation_type in ['discyness', 'boxyness']:\n",
    "    lens_mass_model_input = LensModel(['SIE', 'SHEAR', 'MULTIPOLE'])\n",
    "    phi_macro_lens, _ = param_util.ellipticity2phi_q(kwargs_macro_lens_input['e1'], \n",
    "                                                     kwargs_macro_lens_input['e2'])\n",
    "    a_m = 0.06  # multipole strength: value corresponding to high-end of the distribution of Hao et al. 2006\n",
    "    if perturbation_type == 'discyness':\n",
    "        phi_shift = 0\n",
    "    elif perturbation_type == 'boxyness':\n",
    "        phi_shift = 45*np.pi/180.\n",
    "    kwargs_lens_input = [\n",
    "        kwargs_macro_lens_input, \n",
    "        kwargs_ext_shear_input,\n",
    "        {'m': 4, 'a_m': a_m, 'phi_m': phi_macro_lens + phi_shift, 'center_x': 0.0, 'center_y': 0.0}\n",
    "    ]\n",
    "    \n",
    "elif perturbation_type == 'GRF':\n",
    "    \n",
    "    # with powerbox\n",
    "    seed = 42\n",
    "    beta = -5\n",
    "    logA = -4.1\n",
    "    box_length = npix_num * pix_scl_num * 2 * np.pi\n",
    "    pb = pbox.PowerBox(N=npix_num, dim=2, pk=(lambda k: 10**logA * k**beta), \n",
    "                       boxlength=box_length, seed=seed)\n",
    "    psi_grid_input_orig_old = pb.delta_x()\n",
    "    \n",
    "    # with Giorgos' function\n",
    "    seed = 33\n",
    "    beta = -4\n",
    "    sigma2_grf = 1e-3\n",
    "    psi_grid_input_orig = grf_util.gauss_rand_2d(npix_num, npix_num,\n",
    "                                                 npix_num*pix_scl_num, npix_num*pix_scl_num,\n",
    "                                                 sigma2_grf, beta, seed=seed)\n",
    "    norm_grf = grf_util.grf_normalization(npix_num, npix_num,\n",
    "                                          npix_num*pix_scl_num, npix_num*pix_scl_num,\n",
    "                                          beta)\n",
    "    #print(\"norm. constant:\", norm_grf)\n",
    "    \n",
    "    print(\"mean value:\", psi_grid_input_orig.mean())\n",
    "    lens_mass_model_input = LensModel(['SIE', 'SHEAR', 'PIXELATED'],\n",
    "                                      kwargs_pixelated=kwargs_pixelated_lens_numerics)\n",
    "    kwargs_lens_input = [\n",
    "        kwargs_macro_lens_input, \n",
    "        kwargs_ext_shear_input,\n",
    "        {'pixels': psi_grid_input_orig},\n",
    "    ]\n",
    "    \n",
    "    \n",
    "    # Generate a mask\n",
    "    rmin = 0.8\n",
    "    rmax = 2.8\n",
    "    x_grid_num, y_grid_num = pixel_grid.model_pixel_coordinates('lens_numerics')\n",
    "    radius_num = np.hypot(x_grid_num, y_grid_num)\n",
    "    mask_num = ((radius_num >= rmin) & (radius_num <= rmax)).astype(float)\n",
    "    \n",
    "    plt.figure()\n",
    "    plt.title(np.log10(np.var(psi_grid_input_orig[mask_num == 1])))\n",
    "    plt.imshow(psi_grid_input_orig, origin='lower')\n",
    "    plt.colorbar()\n",
    "    plt.contour(mask_num, levels=[1])\n",
    "    plt.show()\n",
    "\n",
    "# Fitted lens mass model\n",
    "kwargs_pixelated_lens = {'pixel_scale_factor': potential_pixel_scale}\n",
    "lens_mass_model_fit = LensModel(['SIE', 'SHEAR', 'PIXELATED'],\n",
    "                                kwargs_pixelated=kwargs_pixelated_lens)\n",
    "\n",
    "# Input source model \n",
    "source_model_input = LightModel(['SERSIC_ELLIPSE'])\n",
    "kwargs_source_input = [\n",
    "    {'amp': 10.0, 'R_sersic': 1.2, 'n_sersic': 1.5, 'e1': -0.09, 'e2': 0.03,\n",
    "     'center_x': 0.4, 'center_y': 0.15}\n",
    "]\n",
    "phi_src, q_src = param_util.ellipticity2phi_q(kwargs_source_input[0]['e1'], kwargs_source_input[0]['e2'])\n",
    "#print(f\"Input source axis ratio: {q_src:.3f} & direction: {phi_src*180/np.pi:.3f}\")\n",
    "\n",
    "# Input lens light\n",
    "lens_light_model_input = LightModel(['SERSIC_ELLIPSE'])\n",
    "kwargs_lens_light_input = [\n",
    "    {'amp': 30.0, 'R_sersic': 2., 'n_sersic': 2., \n",
    "     'e1': kwargs_macro_lens_input['e1'], 'e2': kwargs_macro_lens_input['e2'], \n",
    "     'center_x': kwargs_macro_lens_input['center_x'], 'center_y': kwargs_macro_lens_input['center_y']}\n",
    "]\n"
   ]
  },
  {
   "cell_type": "markdown",
   "metadata": {},
   "source": [
    "### Image model classes, for both simulate and fit"
   ]
  },
  {
   "cell_type": "code",
   "execution_count": 6,
   "metadata": {},
   "outputs": [],
   "source": [
    "kwargs_numerics = {'supersampling_factor': 1, 'convolution_type': convolution_type}\n",
    "\n",
    "# True image model\n",
    "lens_image_input = LensImage(pixel_grid, psf, noise_class=noise,\n",
    "                                lens_model_class=lens_mass_model_input,\n",
    "                                source_model_class=source_model_input,\n",
    "                                lens_light_model_class=lens_light_model_input,\n",
    "                                kwargs_numerics=kwargs_numerics)\n",
    "\n",
    "# Hybrid image model for fitting\n",
    "pixel_grid_fit = deepcopy(pixel_grid)\n",
    "lens_image_fit = LensImage(pixel_grid_fit, psf, noise_class=noise_fit,\n",
    "                                lens_model_class=lens_mass_model_fit,\n",
    "                                source_model_class=source_model_input,\n",
    "                                lens_light_model_class=lens_light_model_input,\n",
    "                                kwargs_numerics=kwargs_numerics, recompute_model_grids=True)"
   ]
  },
  {
   "cell_type": "code",
   "execution_count": 7,
   "metadata": {
    "scrolled": false
   },
   "outputs": [
    {
     "name": "stdout",
     "output_type": "stream",
     "text": [
      "mean deflection angle: 0.079999946\n"
     ]
    },
    {
     "ename": "RuntimeError",
     "evalue": "No active exception to reraise",
     "output_type": "error",
     "traceback": [
      "\u001b[0;31m---------------------------------------------------------------------------\u001b[0m",
      "\u001b[0;31mRuntimeError\u001b[0m                              Traceback (most recent call last)",
      "\u001b[0;32m<ipython-input-7-f5d11772fab8>\u001b[0m in \u001b[0;36m<module>\u001b[0;34m\u001b[0m\n\u001b[1;32m     17\u001b[0m \u001b[0malpha_grid_input\u001b[0m \u001b[0;34m=\u001b[0m \u001b[0mnp\u001b[0m\u001b[0;34m.\u001b[0m\u001b[0mhypot\u001b[0m\u001b[0;34m(\u001b[0m\u001b[0;34m*\u001b[0m\u001b[0malpha_grid_input\u001b[0m\u001b[0;34m)\u001b[0m\u001b[0;34m\u001b[0m\u001b[0;34m\u001b[0m\u001b[0m\n\u001b[1;32m     18\u001b[0m \u001b[0mprint\u001b[0m\u001b[0;34m(\u001b[0m\u001b[0;34m\"mean deflection angle:\"\u001b[0m\u001b[0;34m,\u001b[0m \u001b[0mnp\u001b[0m\u001b[0;34m.\u001b[0m\u001b[0mabs\u001b[0m\u001b[0;34m(\u001b[0m\u001b[0malpha_grid_input\u001b[0m\u001b[0;34m)\u001b[0m\u001b[0;34m.\u001b[0m\u001b[0mmean\u001b[0m\u001b[0;34m(\u001b[0m\u001b[0;34m)\u001b[0m\u001b[0;34m)\u001b[0m\u001b[0;34m\u001b[0m\u001b[0;34m\u001b[0m\u001b[0m\n\u001b[0;32m---> 19\u001b[0;31m \u001b[0;32mraise\u001b[0m\u001b[0;34m\u001b[0m\u001b[0;34m\u001b[0m\u001b[0m\n\u001b[0m",
      "\u001b[0;31mRuntimeError\u001b[0m: No active exception to reraise"
     ]
    }
   ],
   "source": [
    "# Extract coordinate grids for pixelated potential\n",
    "x_grid_fit, y_grid_fit = lens_image_fit.Grid.model_pixel_coordinates('lens')\n",
    "\n",
    "# Extract coordinate grids for for supersampled source surface brightness maps\n",
    "x_grid_num, y_grid_num = lens_image_fit.Grid.model_pixel_coordinates('lens_numerics')\n",
    "\n",
    "# Extract the true perturbation potential on original\n",
    "psi_grid_input = lens_image_input.LensModel.potential(x_grid_num, y_grid_num, kwargs_lens_input, k=-1)\n",
    "if 'psi_grid_input_orig' in locals():\n",
    "    np.testing.assert_almost_equal(psi_grid_input_orig, psi_grid_input, decimal=7)  # quick numerical check\n",
    "\n",
    "# Extract the true perturbation potential on fitted grid\n",
    "psi_grid_input_fitgrid = lens_image_input.LensModel.potential(x_grid_fit, y_grid_fit, kwargs_lens_input, k=-1)\n",
    "\n",
    "# Mean deflection angle strength\n",
    "alpha_grid_input = lens_image_input.LensModel.alpha(x_grid_num, y_grid_num, kwargs_lens_input, k=-1)\n",
    "alpha_grid_input = np.hypot(*alpha_grid_input)\n",
    "print(\"mean deflection angle:\", np.abs(alpha_grid_input).mean())"
   ]
  },
  {
   "cell_type": "code",
   "execution_count": null,
   "metadata": {
    "scrolled": false
   },
   "outputs": [],
   "source": [
    "# Generate a lensed image based on source and lens models\n",
    "clean_image = lens_image_input.model(kwargs_lens=kwargs_lens_input,\n",
    "                              kwargs_source=kwargs_source_input,\n",
    "                              kwargs_lens_light=kwargs_lens_light_input)\n",
    "\n",
    "# Observed noisy data\n",
    "data = lens_image_input.simulation(kwargs_lens=kwargs_lens_input,\n",
    "                                   kwargs_source=kwargs_source_input,\n",
    "                                   kwargs_lens_light=kwargs_lens_light_input,\n",
    "                                   noise_seed=noise_seed)\n",
    "\n",
    "# here we assume that the noise is perefectly known\n",
    "#lens_image_fit.Noise.set_data(clean_image)\n",
    "lens_image_fit.Noise.compute_noise_map_from_model(clean_image, as_jax_array=False)\n",
    "\n",
    "# get the true source surface brightness\n",
    "source_input = lens_image_input.source_surface_brightness(kwargs_source_input,\n",
    "                                                          de_lensed=True, unconvolved=True)\n",
    "source_input_lensed = lens_image_input.source_surface_brightness(kwargs_source_input, kwargs_lens=kwargs_lens_input,\n",
    "                                                                 de_lensed=False, unconvolved=False)\n",
    "\n",
    "# inform the plotter for later\n",
    "plotter.set_data(data)\n",
    "plotter.set_ref_source(source_input)\n",
    "plotter.set_ref_pixelated_potential(psi_grid_input_fitgrid)\n",
    "\n",
    "# some quantities about the perturbations\n",
    "print(\"sum(abs(perturbations)) =\", np.abs(psi_grid_input).sum())\n",
    "print(\"log(var(perturbations))) =\", np.log10(np.var(psi_grid_input)))\n",
    "\n",
    "# Plot\n",
    "fig, axes = plt.subplots(1, 3, figsize=(15, 4))\n",
    "ax = axes[0]\n",
    "ax.set_title(\"Clean image\", fontsize=18)\n",
    "im = ax.imshow(clean_image, origin='lower', extent=extent, cmap=plotter.cmap_flux, norm=plotter.norm_flux)\n",
    "fig.colorbar(im, ax=ax)\n",
    "ax = axes[1]\n",
    "ax.set_title(\"Simulated data\", fontsize=18)\n",
    "im = ax.imshow(data, origin='lower', extent=extent, cmap=plotter.cmap_flux, norm=plotter.norm_flux)\n",
    "fig.colorbar(im, ax=ax)\n",
    "ax = axes[2]\n",
    "ax.set_title(\"Input perturbations\", fontsize=18)\n",
    "im = ax.imshow(psi_grid_input, origin='lower', extent=extent, cmap=plotter.cmap_default)\n",
    "fig.colorbar(im, ax=ax)\n",
    "fig.tight_layout()\n",
    "plt.show()"
   ]
  },
  {
   "cell_type": "code",
   "execution_count": null,
   "metadata": {},
   "outputs": [],
   "source": [
    "if SAVE_PSI_FIELDS and perturbation_type != 'dark_halo':\n",
    "    # save the potential perturbation array\n",
    "    hdr_pert_input = fits.Header()\n",
    "    hdr_pert_input['PXSCLFAC'] = kwargs_pixelated_lens_numerics['pixel_scale_factor']\n",
    "    extent_num = pixel_grid.model_pixel_extent('lens_numerics')\n",
    "    hdr_pert_input['WIDTH'] = extent_num[1] - extent_num[0]\n",
    "    hdr_pert_input['HEIGHT'] = extent_num[3] - extent_num[2]\n",
    "    hdr_pert_fit = fits.Header()\n",
    "    hdr_pert_fit['PXSCLFAC'] = kwargs_pixelated_lens['pixel_scale_factor']\n",
    "    hdr_pert_fit['WIDTH'] = extent[1] - extent[0]\n",
    "    hdr_pert_fit['HEIGHT'] = extent[3] - extent[2]\n",
    "    hdus = fits.HDUList([\n",
    "        fits.PrimaryHDU(np.array(psi_grid_input), header=hdr_pert_input), \n",
    "        fits.ImageHDU(np.array(psi_grid_input_fitgrid), header=hdr_pert_fit),\n",
    "    ])\n",
    "    hdus.writeto(os.path.join('molet', f'molet_sim_{perturbation_type}', 'input_files', f'dpsi.fits'), \n",
    "                 overwrite=True)\n",
    "    \n",
    "    #hdr_pert_fit = fits.Header()\n",
    "    #hdr_pert_fit['PXSCLFAC'] = kwargs_pixelated_lens['pixel_scale_factor']\n",
    "    #hdr_pert_fit['WIDTH'] = extent[1] - extent[0]\n",
    "    #hdr_pert_fit['HEIGHT'] = extent[3] - extent[2]\n",
    "    #hdus = fits.HDUList([\n",
    "    #    fits.PrimaryHDU(psi_grid_input, header=hdr_pert_input), \n",
    "    #    fits.ImageHDU(psi_grid_input_fitgrid, header=hdr_pert_fit),\n",
    "    #])\n",
    "    #hdus.writeto(os.path.join('molet', f'molet_sim_{perturbation_type}.fits', 'input_files', f'dpsi_{perturbation_type}.fits'), overwrite=True)\n",
    "    \n",
    "    raise"
   ]
  },
  {
   "cell_type": "markdown",
   "metadata": {},
   "source": [
    "## Model fitting\n",
    "\n",
    "### Prepare the parameters (initial values, constraints, etc.)"
   ]
  },
  {
   "cell_type": "code",
   "execution_count": null,
   "metadata": {
    "scrolled": false
   },
   "outputs": [],
   "source": [
    "# no perturbations for first fit (small number)\n",
    "psi_grid_init = 1e-8 * np.ones_like(psi_grid_input_fitgrid)\n",
    "#psi_grid_init = deepcopy(psi_grid_input_fitgrid) #* np.random.randn(*psi_grid_input_fitgrid.shape)\n",
    "\n",
    "\n",
    "kwargs_input = {\n",
    "    'kwargs_lens': [kwargs_lens_input[0], kwargs_lens_input[1], {'pixels': psi_grid_init}],\n",
    "    'kwargs_source': kwargs_source_input,\n",
    "    'kwargs_lens_light': [{}],\n",
    "}\n",
    "kwargs_init = deepcopy(kwargs_input)\n",
    "kwargs_fixed = {\n",
    "    'kwargs_lens': [{}, {'ra_0': 0.0, 'dec_0': 0.}, {'pixels': psi_grid_init}], \n",
    "    'kwargs_source': [{}],\n",
    "    'kwargs_lens_light': kwargs_lens_light_input,  # lens light is fixed\n",
    "}\n",
    "kwargs_joint = {\n",
    "    # fix lens center to lens light center\n",
    "    'lens_with_lens_light': [[(0, 0), ['center_x', 'center_y']]],\n",
    "}\n",
    "parameters = Parameters(lens_image_fit, kwargs_init, kwargs_fixed, \n",
    "                        kwargs_joint=kwargs_joint, kwargs_prior=None)\n",
    "print(\"Number of fitted parameters:\", parameters.num_parameters)\n",
    "\n",
    "source_num_params = len([1 for i in range(len(kwargs_source_input)) for _ in kwargs_source_input[i].values()])"
   ]
  },
  {
   "cell_type": "markdown",
   "metadata": {},
   "source": [
    "### Fit source and macro lens model (if required)"
   ]
  },
  {
   "cell_type": "code",
   "execution_count": null,
   "metadata": {
    "scrolled": false
   },
   "outputs": [],
   "source": [
    "if fit_fully_smooth_first is True:\n",
    "    # Create loss\n",
    "    loss_smooth_fit = Loss(data, lens_image_fit, parameters, \n",
    "                                likelihood_type='chi2', prior_terms=None)\n",
    "    print(\"Initial loss:\", loss_smooth_fit(parameters.kwargs2args(kwargs_init)))\n",
    "    print(\"Number of data points in likelihood:\", loss_smooth_fit.likelihood_num_data_points)\n",
    "\n",
    "    # Optimizer\n",
    "    optimizer_smooth_fit = Optimizer(loss_smooth_fit, parameters)\n",
    "    best_fit, logL, extra_fields, runtime \\\n",
    "        = optimizer_smooth_fit.minimize(method='BFGS', restart_from_init=True,\n",
    "                             use_exact_hessian_if_allowed=False)\n",
    "    print(f\"Runtime: {runtime}\")\n",
    "    print(\"Loss at best-fit:\", loss_smooth_fit(best_fit))\n",
    "    kwargs_smooth_fit = deepcopy(parameters.best_fit_values(as_kwargs=True))\n",
    "\n",
    "    fig = plotter.model_summary(lens_image_fit, kwargs_smooth_fit, show_source=False)\n",
    "    \n",
    "    if SAVE_FIGURES:\n",
    "        fig_name = f'wavelet_pot-smooth_src-input_{perturbation_type}_smooth-fit.pdf'\n",
    "        fig_path = os.path.join('figures', 'smooth fits', fig_name)\n",
    "        fig.savefig(fig_path, dpi=100, bbox_inches='tight')\n",
    "\n",
    "else:\n",
    "    kwargs_smooth_fit = {\n",
    "        'kwargs_lens': [kwargs_lens_input[0], {'pixels': psi_grid_init}],\n",
    "        'kwargs_source': kwargs_source_input,\n",
    "        'kwargs_lens_light': kwargs_lens_light_input,\n",
    "    }"
   ]
  },
  {
   "cell_type": "markdown",
   "metadata": {},
   "source": [
    "### Add pixelated perturbations to the potential"
   ]
  },
  {
   "cell_type": "code",
   "execution_count": null,
   "metadata": {},
   "outputs": [],
   "source": [
    "if fix_smooth_to_input == 'all':\n",
    "    # unfix only the pixelated potential\n",
    "    kwargs_fixed = {\n",
    "        'kwargs_lens': [kwargs_macro_lens_input, kwargs_ext_shear_input, {}],\n",
    "        'kwargs_source': kwargs_source_input,\n",
    "        'kwargs_lens_light': kwargs_lens_light_input,\n",
    "    }\n",
    "elif fix_smooth_to_input == 'source_center':\n",
    "    # unfix everything except shear origin, lens center, and source center\n",
    "    kwargs_fixed = {\n",
    "        'kwargs_lens': [{}, {'ra_0': 0., 'dec_0': 0.}, {}],\n",
    "        'kwargs_source': [{'center_x': kwargs_source_input[0]['center_x'], 'center_y': kwargs_source_input[0]['center_y']}],\n",
    "    }\n",
    "else:\n",
    "    # unfix everything except shear origin and lens center\n",
    "    kwargs_fixed = {\n",
    "        'kwargs_lens': [{}, {'ra_0': 0., 'dec_0': 0.}, {}],\n",
    "        'kwargs_source': [{}],\n",
    "    }\n",
    "\n",
    "parameters.update_fixed(kwargs_fixed)\n",
    "print(\"Number of fitted parameters:\", parameters.num_parameters)\n",
    "#print(parameters.initial_values(as_kwargs=True))"
   ]
  },
  {
   "cell_type": "code",
   "execution_count": null,
   "metadata": {},
   "outputs": [],
   "source": [
    "# Generate a mask\n",
    "rmin = 0.8\n",
    "rmax = 2.8\n",
    "# Low-res grid\n",
    "radius_fit = np.hypot(x_grid_fit, y_grid_fit)\n",
    "mask_fit = ((radius_fit >= rmin) & (radius_fit <= rmax)).astype(float)\n",
    "\n",
    "plt.figure()\n",
    "plt.imshow(mask_fit, origin='lower', cmap='gray')\n",
    "plt.colorbar()\n",
    "plt.show()"
   ]
  },
  {
   "cell_type": "code",
   "execution_count": null,
   "metadata": {
    "scrolled": false
   },
   "outputs": [],
   "source": [
    "# Choose noise map for potential grid regularization\n",
    "npix_pixpot = len(x_grid_fit)\n",
    "noise_map_dir = '/Users/aymericg/Documents/EPFL/PhD_LASTRO/Code/Lens_modelling/autodiff/jax_herculens/notebooks/data'\n",
    "file_name = f'dpsi_1sigma_bkg{sigma_bkd}_{npix_pixpot}px_fullmass_fullamp.npy'\n",
    "potential_noise_map = np.load(os.path.join(noise_map_dir, file_name))\n",
    "\n",
    "\n",
    "plt.figure()\n",
    "plt.imshow(np.log10(potential_noise_map), origin='lower')\n",
    "plt.colorbar()\n",
    "plt.show()\n",
    "\n",
    "print(np.mean(potential_noise_map[mask_fit == 1.]))\n",
    "\n",
    "# TEST: take the mean within the mask\n",
    "#potential_noise_map = np.mean(potential_noise_map[mask_fit == 1.])\n",
    "#potential_noise_map = np.max(potential_noise_map[mask_fit == 1.])"
   ]
  },
  {
   "cell_type": "code",
   "execution_count": null,
   "metadata": {
    "scrolled": false
   },
   "outputs": [],
   "source": [
    "# Create loss\n",
    "if not wavelet_regularization:\n",
    "    loss_pixpot_fit = Loss(data, lens_image_fit, parameters, \n",
    "                           likelihood_type='l2_norm', \n",
    "                           regularization_terms=None,\n",
    "                           prior_terms=None)\n",
    "else:\n",
    "    loss_pixpot_fit = Loss(data, lens_image_fit, parameters, \n",
    "                           likelihood_type='l2_norm', \n",
    "                           regularization_terms=['l1_starlet_potential', 'l1_battle_potential'], \n",
    "                           regularization_strengths=[3, 1000],\n",
    "                           potential_noise_map=potential_noise_map,\n",
    "                           prior_terms=None)\n",
    "print(\"Number of data points in likelihood:\", loss_pixpot_fit.likelihood_num_data_points)"
   ]
  },
  {
   "cell_type": "code",
   "execution_count": null,
   "metadata": {
    "scrolled": false
   },
   "outputs": [],
   "source": [
    "optimizer_pixpot_fit = Optimizer(loss_pixpot_fit, parameters)\n",
    "optimizer_type = 'optax'\n",
    "\n",
    "if optimizer_type == 'minimize':\n",
    "    best_fit, logL, extra_fields, runtime \\\n",
    "        = optimizer_pixpot_fit.minimize(method='trust-krylov', maxiter=None, \n",
    "                                        restart_from_init=(not start_from_fully_smooth))\n",
    "elif optimizer_type == 'optax':\n",
    "    best_fit, logL, extra_fields, runtime \\\n",
    "        = optimizer_pixpot_fit.optax(max_iterations=300, \n",
    "                                     init_learning_rate=1e-3,\n",
    "                                     restart_from_init=(not start_from_fully_smooth))\n",
    "\n",
    "print(f\"Runtime: {runtime}\")\n",
    "print(\"Loss at best-fit:\", loss_pixpot_fit(best_fit))\n",
    "\n",
    "kwargs_pixpot_fit = deepcopy(parameters.best_fit_values(as_kwargs=True))"
   ]
  },
  {
   "cell_type": "code",
   "execution_count": null,
   "metadata": {},
   "outputs": [],
   "source": [
    "if optimizer_type == 'minimize':\n",
    "    fig, ax = plt.subplots(1, 1)\n",
    "    ax.plot(range(len(optimizer_pixpot_fit.loss_history)), optimizer_pixpot_fit.loss_history)\n",
    "    ax.set_ylabel(\"Loss\", fontsize=18)\n",
    "    ax.set_xlabel(\"Iteration\", fontsize=18)\n",
    "    plt.show()"
   ]
  },
  {
   "cell_type": "code",
   "execution_count": null,
   "metadata": {},
   "outputs": [],
   "source": [
    "shift_pixelated_potential = 'min'\n",
    "fig = plotter.model_summary(lens_image_fit, kwargs_pixpot_fit,\n",
    "                            show_lens_potential=True, potential_mask=mask_fit,\n",
    "                            shift_pixelated_potential=shift_pixelated_potential,\n",
    "                            #vmin_pot=-0.1, vmax_pot=0.1,\n",
    "                            )"
   ]
  },
  {
   "cell_type": "code",
   "execution_count": null,
   "metadata": {
    "scrolled": false
   },
   "outputs": [],
   "source": [
    "# save the figure\n",
    "if SAVE_FIGURES:\n",
    "    fig_name = f'wavelet_pot-smooth_src-input_{perturbation_type}_full-fit'\n",
    "    if not wavelet_regularization:\n",
    "        fig_name += '_no-reg'\n",
    "    fig_path = os.path.join('figures', 'full fits', fig_name + '.pdf')\n",
    "    fig.savefig(fig_path, dpi=100, bbox_inches='tight')"
   ]
  },
  {
   "cell_type": "code",
   "execution_count": null,
   "metadata": {},
   "outputs": [],
   "source": [
    "if not SAVE_MODELS:\n",
    "    raise"
   ]
  },
  {
   "cell_type": "markdown",
   "metadata": {},
   "source": [
    "#### Save reconstructed potential for further analysis"
   ]
  },
  {
   "cell_type": "code",
   "execution_count": null,
   "metadata": {},
   "outputs": [],
   "source": [
    "base_filename = f'-{perturbation_type}-scale_{potential_pixel_scale}-smooth_source'"
   ]
  },
  {
   "cell_type": "code",
   "execution_count": null,
   "metadata": {},
   "outputs": [],
   "source": [
    "if SAVE_MODELS:\n",
    "    hdr_psi = fits.Header()\n",
    "    hdr_psi['PIXSCALE'] = (potential_pixel_scale, 'pixel scale factor for pixelated potential grid')\n",
    "    psi_grid_model = kwargs_pixpot_fit['kwargs_lens'][-1]['pixels']\n",
    "    hdus = fits.HDUList([\n",
    "        fits.PrimaryHDU(psi_grid_model, header=hdr_psi), \n",
    "        fits.ImageHDU(psi_grid_input, header=hdr_psi),\n",
    "        fits.ImageHDU(psi_grid_input_fitgrid),\n",
    "        fits.ImageHDU(mask_fit, header=hdr_psi),\n",
    "        fits.ImageHDU(potential_noise_map, header=hdr_psi),\n",
    "    ])\n",
    "    hdus.writeto(os.path.join('results', 'pixpot'+base_filename+'.fits'), overwrite=True)"
   ]
  },
  {
   "cell_type": "code",
   "execution_count": null,
   "metadata": {},
   "outputs": [],
   "source": [
    "raise"
   ]
  },
  {
   "cell_type": "markdown",
   "metadata": {},
   "source": [
    "#### Save fisher matrix and reconstructed potential for further analysis"
   ]
  },
  {
   "cell_type": "code",
   "execution_count": null,
   "metadata": {},
   "outputs": [],
   "source": [
    "# compute or retrieve the inverse of the Hessian matrix\n",
    "if 'hess_inv' in extra_fields:\n",
    "    print(\"Using approximated inverse Hessian\")\n",
    "    full_fisher_matrix = extra_fields['hess_inv']\n",
    "else:\n",
    "    start = time.time()\n",
    "    full_hessian_best_fit = optimizer_pixpot_fit.hessian(best_fit)\n",
    "    full_fisher_matrix = jnp.linalg.inv(full_hessian_best_fit).block_until_ready()\n",
    "    print(\"Time to compute the inverse Hessian matrix:\", time.time()-start)\n",
    "    full_fisher_matrix = np.array(full_fisher_matrix)"
   ]
  },
  {
   "cell_type": "code",
   "execution_count": null,
   "metadata": {},
   "outputs": [],
   "source": [
    "# here we modify the Parameters such that\n",
    "# only the source parameters are not fixed\n",
    "# in order to retrieve an alternative covariance matrix\n",
    "kwargs_fixed_src = {\n",
    "    'kwargs_lens': kwargs_pixpot_fit['kwargs_lens'],\n",
    "    'kwargs_source': [{}],\n",
    "    'kwargs_lens_light': kwargs_pixpot_fit['kwargs_lens_light'],\n",
    "}\n",
    "parameters_src = deepcopy(parameters)\n",
    "parameters_src.update_fixed(kwargs_fixed_src)\n",
    "print(parameters_src.num_parameters)\n",
    "loss_src = Loss(data, lens_image_fit, parameters_src, \n",
    "                likelihood_type='chi2')\n",
    "optimizer_src = Optimizer(loss_src, parameters_src)\n",
    "src_hessian_best_fit = optimizer_src.hessian(best_fit[-source_num_params:])\n",
    "src_fisher_matrix = jnp.linalg.inv(src_hessian_best_fit).block_until_ready()"
   ]
  },
  {
   "cell_type": "code",
   "execution_count": null,
   "metadata": {},
   "outputs": [],
   "source": [
    "print(full_fisher_matrix.shape)\n",
    "# retrieve true and pixelated source and potential images\n",
    "if SAVE_MODELS:\n",
    "    hdr_fisher = fits.Header()\n",
    "    hdr_fisher['SRCIDX1'] = (len(full_fisher_matrix) - source_num_params, 'starting index for source parameters')\n",
    "    hdr_fisher['SRCIDX2'] = (len(full_fisher_matrix), 'ending index for source parameters')\n",
    "    col1 = fits.Column(name='symbols', format='20A', array=parameters.symbols)\n",
    "    col2 = fits.Column(name='bestfit', format='E', array=np.array(parameters.current_values()))\n",
    "    col3 = fits.Column(name='input', format='E', array=np.array(parameters.kwargs2args(kwargs_input)))\n",
    "    hdus = fits.HDUList([\n",
    "        fits.PrimaryHDU(full_fisher_matrix, header=hdr_fisher),\n",
    "        fits.ImageHDU(src_fisher_matrix),\n",
    "        fits.BinTableHDU.from_columns([col1, col2, col3]),\n",
    "    ])\n",
    "    hdus.writeto(os.path.join('results', 'fisher'+base_filename+'.fits'), overwrite=True)"
   ]
  },
  {
   "cell_type": "markdown",
   "metadata": {},
   "source": [
    "## Estimate the variance map of the potential"
   ]
  },
  {
   "cell_type": "raw",
   "metadata": {},
   "source": [
    "# extract only terms related to potential perturbations\n",
    "fisher_matrix = full_fisher_matrix[3:-7, 3:-7]\n",
    "print(fisher_matrix.shape, parameters.names[3], parameters.names[-8])\n",
    "\n",
    "# reduce firther to plot fisher matrix\n",
    "imin, imax = 120, 140\n",
    "\n",
    "symbols_red = parameters.symbols[imin:imax]\n",
    "fisher_matrix_red = fisher_matrix[imin:imax, imin:imax]\n",
    "sqrt_fisher_matrix_red_signed = np.sqrt(np.abs(fisher_matrix_red)) * np.sign(fisher_matrix_red)\n",
    "\n",
    "plt.figure(figsize=(10, 8))\n",
    "plt.title(\"sqrt(Fisher matrix) (signed)\", fontsize=18)\n",
    "plt.imshow(sqrt_fisher_matrix_red_signed, cmap='bwr', norm=TwoSlopeNorm(0))\n",
    "plt.colorbar(label=\"parameter standard deviation\")\n",
    "plt.gca().set_xticks(np.arange(0, imax-imin))\n",
    "plt.gca().set_xticklabels(symbols_red)\n",
    "plt.gca().set_yticks(np.arange(0, imax-imin))\n",
    "plt.gca().set_yticklabels(symbols_red)\n",
    "#plt.grid('on', color='black', alpha=0.2)\n",
    "plt.show()"
   ]
  },
  {
   "cell_type": "raw",
   "metadata": {},
   "source": [
    "cov_diag = np.abs(np.diag(fisher_matrix))\n",
    "variance_map = cov_diag.reshape((npix_pixpot, npix_pixpot))\n",
    "\n",
    "plt.title(\"variance map\", fontsize=18)\n",
    "plt.imshow(np.sqrt(variance_map), origin='lower')\n",
    "plt.colorbar()\n",
    "plt.show()"
   ]
  },
  {
   "cell_type": "markdown",
   "metadata": {},
   "source": [
    "## Comparison of critical curves"
   ]
  },
  {
   "cell_type": "raw",
   "metadata": {},
   "source": [
    "kwargs_lens_input_sie = deepcopy(kwargs_lens_input)\n",
    "#pprint(kwargs_lens_input_sie)\n",
    "mag_map = LensModel(['SIE']).kappa(\n",
    "    x_grid, y_grid, kwargs_lens_input_sie, k=0)\n",
    "#mag_map = mag_map.reshape(npix, npix)\n",
    "print(mag_map.min(), mag_map.max())\n",
    "\n",
    "plt.imshow(mag_map, origin='lower', cmap='plasma')\n",
    "plt.colorbar()\n",
    "plt.show()"
   ]
  },
  {
   "cell_type": "code",
   "execution_count": null,
   "metadata": {},
   "outputs": [],
   "source": []
  }
 ],
 "metadata": {
  "kernelspec": {
   "display_name": "py3jax",
   "language": "python",
   "name": "py3jax"
  },
  "language_info": {
   "codemirror_mode": {
    "name": "ipython",
    "version": 3
   },
   "file_extension": ".py",
   "mimetype": "text/x-python",
   "name": "python",
   "nbconvert_exporter": "python",
   "pygments_lexer": "ipython3",
   "version": "3.7.10"
  }
 },
 "nbformat": 4,
 "nbformat_minor": 5
}
