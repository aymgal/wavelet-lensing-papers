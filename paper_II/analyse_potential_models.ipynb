{
 "cells": [
  {
   "cell_type": "markdown",
   "metadata": {},
   "source": [
    "# Analyse pixelated potential reconstructions\n",
    "\n",
    "__last update__: 29/11/21"
   ]
  },
  {
   "cell_type": "code",
   "execution_count": 1,
   "metadata": {},
   "outputs": [],
   "source": [
    "%config InlineBackend.figure_format = 'retina'\n",
    "\n",
    "import os\n",
    "import numpy as np\n",
    "from astropy.io import fits\n",
    "import corner\n",
    "import seaborn as sns # for nicer colors on the plot\n",
    "import matplotlib.pyplot as plt\n",
    "%matplotlib inline\n",
    "plt.rc('image', interpolation='none')\n",
    "\n",
    "from herculens.Coordinates.pixel_grid import PixelGrid"
   ]
  },
  {
   "cell_type": "code",
   "execution_count": 2,
   "metadata": {},
   "outputs": [],
   "source": [
    "SAVE_FIGURES = False\n",
    "\n",
    "# Factor of pixel scale for the potential grid\n",
    "potential_pixel_scale = 4\n",
    "\n",
    "# What results (stored in fits files) do consider\n",
    "choices = [\n",
    "    #('dark halo', f'pixpot-dark_halo-scale_{potential_pixel_scale}-smooth_source.fits'),\n",
    "    #('GRF', f'pixpot-GRF-scale_{potential_pixel_scale}-smooth_source.fits'),\n",
    "    ('discyness', f'pixpot-discyness-scale_{potential_pixel_scale}-smooth_source.fits'),\n",
    "]"
   ]
  },
  {
   "cell_type": "code",
   "execution_count": 3,
   "metadata": {},
   "outputs": [],
   "source": [
    "npix = 100\n",
    "pix_scl = 0.08  # arcsec / pixel\n",
    "half_size = npix * pix_scl / 2\n",
    "ra_at_xy_0 = dec_at_xy_0 = -half_size + pix_scl / 2\n",
    "transform_pix2angle = pix_scl * np.eye(2)\n",
    "grid = PixelGrid(nx=npix, ny=npix, ra_at_xy_0=ra_at_xy_0, dec_at_xy_0=dec_at_xy_0,\n",
    "                 transform_pix2angle=transform_pix2angle)\n",
    "\n",
    "x_grid, y_grid = grid.pixel_coordinates\n",
    "\n",
    "grid.create_model_grid(pixel_scale_factor=potential_pixel_scale, \n",
    "                       conserve_extent=True, name='fit')\n",
    "x_grid_fit, y_grid_fit = grid.model_pixel_coordinates('fit')\n",
    "pix_scl_fit = pix_scl * potential_pixel_scale\n",
    "\n",
    "extent = grid.extent"
   ]
  },
  {
   "cell_type": "code",
   "execution_count": 4,
   "metadata": {},
   "outputs": [],
   "source": [
    "def get_maps(choice_list):\n",
    "    array_list = []\n",
    "    for choice in choice_list:\n",
    "        res_label, filename = choice\n",
    "        with fits.open(os.path.join('results', filename)) as hdus:\n",
    "            pixpot_model = hdus[0].data.astype(float)\n",
    "            pixpot_truth_highres = hdus[1].data.astype(float)\n",
    "            pixpot_truth_fitgrid = hdus[2].data.astype(float)\n",
    "            mask_fitgrid = hdus[3].data.astype(float)\n",
    "        array_list.append([pixpot_model, pixpot_truth_fitgrid, \n",
    "                           pixpot_truth_highres, mask_fitgrid])\n",
    "    return array_list"
   ]
  },
  {
   "cell_type": "code",
   "execution_count": 5,
   "metadata": {},
   "outputs": [],
   "source": [
    "arrays = get_maps(choices)"
   ]
  },
  {
   "cell_type": "code",
   "execution_count": 6,
   "metadata": {
    "scrolled": true
   },
   "outputs": [
    {
     "data": {
      "text/plain": [
       "(13,)"
      ]
     },
     "execution_count": 6,
     "metadata": {},
     "output_type": "execute_result"
    }
   ],
   "source": [
    "np.fft.fftshift(np.fft.fftfreq(len(x_grid_fit), grid.pixel_width))[len(x_grid_fit)//2:].shape\n",
    "#print(np.fft.fftshift(np.fft.fftfreq(len(x_grid), grid.pixel_width))[len(x_grid)//2:].shape)"
   ]
  },
  {
   "cell_type": "code",
   "execution_count": 7,
   "metadata": {},
   "outputs": [
    {
     "data": {
      "image/png": "[encoded data removed]",
      "text/plain": [
       "<Figure size 432x288 with 2 Axes>"
      ]
     },
     "metadata": {
      "image/png": {
       "height": 252,
       "width": 304
      },
      "needs_background": "light"
     },
     "output_type": "display_data"
    }
   ],
   "source": [
    "def annulus_mask(xx, yy, rmin, rmax):\n",
    "    radius = np.hypot(xx, yy)\n",
    "    mask = ((radius >= rmin) & (radius <= rmax)).astype(bool)\n",
    "    return mask\n",
    "\n",
    "r_min = 0.3\n",
    "r_max = 3\n",
    "mask_fit = annulus_mask(x_grid_fit, y_grid_fit, r_min, r_max)\n",
    "mask = annulus_mask(x_grid, y_grid, r_min, r_max)\n",
    "\n",
    "plt.imshow(arrays[0][0], origin='lower', extent=extent, alpha=0.5)\n",
    "plt.imshow(mask_fit, origin='lower', extent=extent, alpha=0.4, cmap='gray')\n",
    "plt.imshow(mask, origin='lower', extent=extent, alpha=0.4, cmap='gray')\n",
    "plt.colorbar()\n",
    "plt.show()"
   ]
  },
  {
   "cell_type": "code",
   "execution_count": 20,
   "metadata": {},
   "outputs": [
    {
     "name": "stdout",
     "output_type": "stream",
     "text": [
      "(11,) (11,) (12,)\n"
     ]
    }
   ],
   "source": [
    "def power_spectrum(xx, yy, pix_scl, image, mask_image=None):\n",
    "    #from lenstronomy.Util import analysis_util as autil\n",
    "    if mask_image is None:\n",
    "        mask_image = np.ones_like(image)\n",
    "        \n",
    "    # squared magnitude of FFT\n",
    "    fft_abs2 = np.abs(np.fft.fft2(image * mask_image))**2\n",
    "    \n",
    "    # shift FFT image so that small wave numbers are at the center\n",
    "    fft_abs2 = np.fft.fftshift(fft_abs2)\n",
    "    \n",
    "    # get radial bins\n",
    "    npix_x = len(xx)  # assumes square images\n",
    "    npix_y = len(yy)  # assumes square images\n",
    "    k_x = np.fft.fftshift(np.fft.fftfreq(npix_x, pix_scl))[npix_x//2:]\n",
    "    k_y = np.fft.fftshift(np.fft.fftfreq(npix_y, pix_scl))[npix_y//2:]\n",
    "    k_bins = k_x[1:] - k_x[:-1]\n",
    "    \n",
    "    for i in range()\n",
    "    \n",
    "    # TEMP\n",
    "    i_sorted = fft_abs2.flatten()\n",
    "    rind = np.where(k_bins)[0]\n",
    "    csim = np.cumsum(i_sorted, dtype=float)\n",
    "    tbin = csim[rind[1:]] - csim[rind[:-1]]\n",
    "    r_bin = np.linspace(start=1, stop=len(tbin) + 1 - 0.5, num=len(tbin))\n",
    "    radial_prof = tbin / len(rind)\n",
    "    print(radial_prof.shape, r_bin.shape, k_bins.shape)\n",
    "    \n",
    "    #print(k_x.shape, np.where(k_x[1:] - k_x[:-1])[0])\n",
    "    #return\n",
    "    ##k_x_bins = k_x[1:] - k_x[:-1]\n",
    "    ##k_y_bins = k_y[1:] - k_y[:-1]\n",
    "    #k_xx, k_yy = np.meshgrid(k_x, k_y)\n",
    "    #k_xx_f = k_xx.flatten()\n",
    "    #k_yy_f = k_yy.flatten()\n",
    "    #k = np.hypot(k_xx_f, k_yy_f)\n",
    "    #print(k_xx.shape, image.shape)\n",
    "    #k_bins = k[1:] - k[:-1]\n",
    "    #fft_abs2_f = fft_abs2.flatten()\n",
    "    #for i in k_bins:\n",
    "    #    in_annulus = []\n",
    "    #    for j in range(fft_abs2_f.size):\n",
    "    #        if k_bins[i] < k[j] < k_bins[i+1]:\n",
    "    #            in_annulus.append(fft_abs2_f[i])\n",
    "    \n",
    "    #power_spectrum, radii = autil.azimuthalAverage(fft_abs2)\n",
    "    #power_spectrum /= np.sum(mask_image)\n",
    "    #return radii, power_spectrum\n",
    "\n",
    "power_spectrum(x_grid_fit, y_grid_fit, pix_scl_fit, arrays[0][0])\n",
    "\n",
    "#plt.figure()\n",
    "#plt.imshow(power_spectrum(arrays[0][1])[1], origin='lower')\n",
    "#plt.show()"
   ]
  },
  {
   "cell_type": "code",
   "execution_count": 8,
   "metadata": {},
   "outputs": [
    {
     "name": "stdout",
     "output_type": "stream",
     "text": [
      "(169,) (25, 25)\n"
     ]
    },
    {
     "ename": "IndexError",
     "evalue": "only integers, slices (`:`), ellipsis (`...`), numpy.newaxis (`None`) and integer or boolean arrays are valid indices",
     "output_type": "error",
     "traceback": [
      "\u001b[0;31m---------------------------------------------------------------------------\u001b[0m",
      "\u001b[0;31mIndexError\u001b[0m                                Traceback (most recent call last)",
      "\u001b[0;32m<ipython-input-8-02b205358edd>\u001b[0m in \u001b[0;36m<module>\u001b[0;34m\u001b[0m\n\u001b[1;32m     31\u001b[0m     \u001b[0;31m#return radii, power_spectrum\u001b[0m\u001b[0;34m\u001b[0m\u001b[0;34m\u001b[0m\u001b[0;34m\u001b[0m\u001b[0m\n\u001b[1;32m     32\u001b[0m \u001b[0;34m\u001b[0m\u001b[0m\n\u001b[0;32m---> 33\u001b[0;31m \u001b[0mpower_spectrum\u001b[0m\u001b[0;34m(\u001b[0m\u001b[0mx_grid_fit\u001b[0m\u001b[0;34m,\u001b[0m \u001b[0my_grid_fit\u001b[0m\u001b[0;34m,\u001b[0m \u001b[0mpix_scl_fit\u001b[0m\u001b[0;34m,\u001b[0m \u001b[0marrays\u001b[0m\u001b[0;34m[\u001b[0m\u001b[0;36m0\u001b[0m\u001b[0;34m]\u001b[0m\u001b[0;34m[\u001b[0m\u001b[0;36m0\u001b[0m\u001b[0;34m]\u001b[0m\u001b[0;34m)\u001b[0m\u001b[0;34m\u001b[0m\u001b[0;34m\u001b[0m\u001b[0m\n\u001b[0m\u001b[1;32m     34\u001b[0m \u001b[0;34m\u001b[0m\u001b[0m\n\u001b[1;32m     35\u001b[0m \u001b[0;31m#plt.figure()\u001b[0m\u001b[0;34m\u001b[0m\u001b[0;34m\u001b[0m\u001b[0;34m\u001b[0m\u001b[0m\n",
      "\u001b[0;32m<ipython-input-8-02b205358edd>\u001b[0m in \u001b[0;36mpower_spectrum\u001b[0;34m(xx, yy, pix_scl, image, mask_image)\u001b[0m\n\u001b[1;32m     24\u001b[0m         \u001b[0min_annulus\u001b[0m \u001b[0;34m=\u001b[0m \u001b[0;34m[\u001b[0m\u001b[0;34m]\u001b[0m\u001b[0;34m\u001b[0m\u001b[0;34m\u001b[0m\u001b[0m\n\u001b[1;32m     25\u001b[0m         \u001b[0;32mfor\u001b[0m \u001b[0mj\u001b[0m \u001b[0;32min\u001b[0m \u001b[0mrange\u001b[0m\u001b[0;34m(\u001b[0m\u001b[0mfft_abs2_f\u001b[0m\u001b[0;34m.\u001b[0m\u001b[0msize\u001b[0m\u001b[0;34m)\u001b[0m\u001b[0;34m:\u001b[0m\u001b[0;34m\u001b[0m\u001b[0;34m\u001b[0m\u001b[0m\n\u001b[0;32m---> 26\u001b[0;31m             \u001b[0;32mif\u001b[0m \u001b[0mk_bins\u001b[0m\u001b[0;34m[\u001b[0m\u001b[0mi\u001b[0m\u001b[0;34m]\u001b[0m \u001b[0;34m<\u001b[0m \u001b[0mk\u001b[0m\u001b[0;34m[\u001b[0m\u001b[0mj\u001b[0m\u001b[0;34m]\u001b[0m \u001b[0;34m<\u001b[0m \u001b[0mk_bins\u001b[0m\u001b[0;34m[\u001b[0m\u001b[0mi\u001b[0m\u001b[0;34m+\u001b[0m\u001b[0;36m1\u001b[0m\u001b[0;34m]\u001b[0m\u001b[0;34m:\u001b[0m\u001b[0;34m\u001b[0m\u001b[0;34m\u001b[0m\u001b[0m\n\u001b[0m\u001b[1;32m     27\u001b[0m                 \u001b[0min_annulus\u001b[0m\u001b[0;34m.\u001b[0m\u001b[0mappend\u001b[0m\u001b[0;34m(\u001b[0m\u001b[0mfft_abs2_f\u001b[0m\u001b[0;34m[\u001b[0m\u001b[0mi\u001b[0m\u001b[0;34m]\u001b[0m\u001b[0;34m)\u001b[0m\u001b[0;34m\u001b[0m\u001b[0;34m\u001b[0m\u001b[0m\n\u001b[1;32m     28\u001b[0m \u001b[0;34m\u001b[0m\u001b[0m\n",
      "\u001b[0;31mIndexError\u001b[0m: only integers, slices (`:`), ellipsis (`...`), numpy.newaxis (`None`) and integer or boolean arrays are valid indices"
     ]
    }
   ],
   "source": [
    "raise"
   ]
  },
  {
   "cell_type": "code",
   "execution_count": null,
   "metadata": {
    "scrolled": false
   },
   "outputs": [],
   "source": [
    "plt.figure()\n",
    "#plt.ylim(1e-4, 1e3)\n",
    "plt.loglog(*power_spectrum(arrays[0][0]), label=\"model\",\n",
    "           color='tab:blue', linestyle='-')\n",
    "plt.loglog(*power_spectrum(arrays[0][0], mask_image=mask_fit), label=\"model (masked)\",\n",
    "           color='tab:blue', linestyle='--')\n",
    "plt.loglog(*power_spectrum(arrays[0][1]), label=\"truth (fit-grid)\",\n",
    "           color='tab:orange', linestyle='-')\n",
    "plt.loglog(*power_spectrum(arrays[0][1], mask_image=mask_fit), label=\"truth (masked)\",\n",
    "           color='tab:orange', linestyle='--')\n",
    "plt.loglog(*power_spectrum(arrays[0][2]), label=\"truth (high-res)\",\n",
    "           color='tab:red', linestyle='-')\n",
    "plt.loglog(*power_spectrum(arrays[0][2], mask_image=mask), label=\"truth (high-res, masked)\",\n",
    "           color='tab:red', linestyle='--')\n",
    "plt.legend(fontsize=14, bbox_to_anchor=(1, 1), loc='upper left')\n",
    "plt.show()"
   ]
  },
  {
   "cell_type": "code",
   "execution_count": null,
   "metadata": {},
   "outputs": [],
   "source": []
  }
 ],
 "metadata": {
  "kernelspec": {
   "display_name": "py3jax",
   "language": "python",
   "name": "py3jax"
  },
  "language_info": {
   "codemirror_mode": {
    "name": "ipython",
    "version": 3
   },
   "file_extension": ".py",
   "mimetype": "text/x-python",
   "name": "python",
   "nbconvert_exporter": "python",
   "pygments_lexer": "ipython3",
   "version": "3.7.10"
  }
 },
 "nbformat": 4,
 "nbformat_minor": 2
}
